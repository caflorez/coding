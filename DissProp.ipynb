{
 "cells": [
  {
   "cell_type": "code",
   "execution_count": 43,
   "metadata": {},
   "outputs": [],
   "source": [
    "import numpy as np\n",
    "from scipy.integrate import solve_bvp\n",
    "from numpy import linalg as LA\n",
    "import math\n",
    "from scipy.integrate import odeint\n",
    "import sys\n",
    "import scipy.integrate as integrate\n",
    "import matplotlib.pylab as plt\n",
    "import matplotlib\n",
    "import scipy.interpolate    \n",
    "import os\n",
    "from matplotlib import rc\n",
    "%matplotlib inline"
   ]
  },
  {
   "cell_type": "markdown",
   "metadata": {},
   "source": [
    "## Sistema de ED y condiciones de frontera"
   ]
  },
  {
   "cell_type": "markdown",
   "metadata": {},
   "source": [
    "Se introduce el arreglo y[i] que tiene 16 elementos. El orden de asignación de variables está dado abajo"
   ]
  },
  {
   "cell_type": "code",
   "execution_count": 61,
   "metadata": {},
   "outputs": [],
   "source": [
    "\"\"\"\n",
    "convention \n",
    "y[0]=pp, y[1]=pm, y[2]=qp, y[3]=qm, y[4]=Jp, y[5]=Jm, y[6]=Fp, y[7]=Fm, y[8]=M3p, y[9]=M4p,\n",
    " y[10]=M5p, y[11]=M6p,  y[12]=M3m, y[13]=M4m, y[14]=M5m, y[15]=M6m\n",
    "\"\"\"\n",
    "def System(x, y):\n",
    "    return np.vstack((\n",
    "        -dVdq(y[2])+(m/2.)*(omega_D*y[6]-omega_D*gamma_0*y[2]-omega_D*y[7]+omega_D*gamma_0*y[3])\n",
    "        -(m/2.)*(-omega_D*y[4]+omega_D*gamma_0*y[2]-omega_D*y[5]+omega_D*gamma_0*y[3]),\n",
    "        -dVdq(y[3])-(m/2.)*(omega_D*y[6]-omega_D*gamma_0*y[2]-omega_D*y[7] +omega_D*gamma_0*y[3])\n",
    "        -(m/2.)*(-omega_D*y[4]+omega_D*gamma_0*y[2]-omega_D*y[5]+omega_D*gamma_0*y[3]),\n",
    "        y[0]/m,\n",
    "        y[1]/m,\n",
    "        omega_D*(gamma_0*y[2]-y[4]),\n",
    "        omega_D*(gamma_0*y[3]-y[5]),\n",
    "        -omega_D*(gamma_0*y[2]-y[6]),\n",
    "        -omega_D*(gamma_0*y[3]-y[7]),\n",
    "        y[9]/m,\n",
    "        d2Vdq(y[2])*y[8],\n",
    "        y[11]/m,\n",
    "        d2Vdq(y[2])*y[10],\n",
    "        y[13]/m,\n",
    "        d2Vdq(y[3])*y[12],\n",
    "        y[15]/m,\n",
    "        d2Vdq(y[3])*y[14]\n",
    "    ))\n",
    "\n",
    "def bc(ya, yb): \n",
    "    #ya: conditions in t=0\n",
    "    #yb: conditions in t=tf\n",
    "    return np.array([ya[0] - pp0, \n",
    "                     ya[1] - pm0, \n",
    "                     ya[2] - qp0, \n",
    "                     ya[3] - qm0, \n",
    "                     ya[4] - 0, \n",
    "                     ya[5] - 0, \n",
    "                     yb[6] - 0, \n",
    "                     yb[7] - 0, \n",
    "                     ya[8] - 1, \n",
    "                     ya[9] - 0, \n",
    "                     ya[10] - 0, \n",
    "                     ya[11] - 1, \n",
    "                     ya[12] - 1, \n",
    "                     ya[13] - 0, \n",
    "                     ya[14] - 0, \n",
    "                     ya[15] - 1])"
   ]
  },
  {
   "cell_type": "markdown",
   "metadata": {},
   "source": [
    "## Potencial de Morse y sus derivadas. Lagrangiano y acción"
   ]
  },
  {
   "cell_type": "markdown",
   "metadata": {},
   "source": [
    "- El lagrangiano usa las salidas del integrador, las cuales está indexadas como y[i][j], siendo i el indice que determina la funcion, mientras j los valores de esta en la malla que usa el integrador.\n",
    "- La intrgración de la acción se aproxima por suma discreta\n",
    "- La fase tiene en cuenta el calor del índice de Maslov (nu en el código)"
   ]
  },
  {
   "cell_type": "code",
   "execution_count": 62,
   "metadata": {},
   "outputs": [],
   "source": [
    "def V(q):\n",
    "    return D*(1-np.exp(-a*q))**2\n",
    " \n",
    "\n",
    "def dVdq(q):\n",
    "    return 2*a*D*(np.exp(-a*q)-np.exp(-2*a*q))\n",
    "\n",
    "\n",
    "def d2Vdq(q):\n",
    "    return -2*a**2*D*(np.exp(-a*q)-2*np.exp(-2*a*q))\n",
    "\n",
    "def lag(j):\n",
    "    return V(res.y[2][j])-V(res.y[3][j])-0.5*(res.y[2][j]-res.y[3][j])*(dVdq(res.y[2][j])+dVdq(res.y[3][j]))   \n",
    "\n",
    "def phase(f, a, b, tp):\n",
    "    i = a\n",
    "    s = 0\n",
    "    while i <= b:\n",
    "        s += f(i)*tp\n",
    "        i += 1\n",
    "    ss=(-1/hbar)*s\n",
    "    return ss\n",
    "\n",
    "def prop(phase):\n",
    "    pha=(2/(nuyan*hbar*np.sqrt(np.abs(deter))))*np.cos(phase(lag,0,bb,tp)+nu*nuyan/4)\n",
    "    return pha"
   ]
  },
  {
   "cell_type": "markdown",
   "metadata": {},
   "source": [
    "## Se definen las mallas de salida y llegada para los pares de trayectorias"
   ]
  },
  {
   "cell_type": "markdown",
   "metadata": {},
   "source": [
    "- Malla desde -0.4 a 0.4\n",
    "- dimgrid fija las cajas que tendran tamaño $dpdq$"
   ]
  },
  {
   "cell_type": "code",
   "execution_count": 63,
   "metadata": {},
   "outputs": [],
   "source": [
    "dimgrid=int(400)\n",
    "dimph=float(0.4)\n",
    "pmax=dimph \n",
    "pmin=-dimph\n",
    "qmax=dimph\n",
    "qmin=-dimph\n",
    "#----------------------------------------------------------------------\n",
    "malla_prop_c1=np.zeros((dimgrid,dimgrid))\n",
    "malla_cont_c1=np.zeros((dimgrid,dimgrid))\n",
    "mallafinal_c1=np.zeros((dimgrid,dimgrid))\n",
    "malla_prop_c2=np.zeros((dimgrid,dimgrid))\n",
    "malla_cont_c2=np.zeros((dimgrid,dimgrid))\n",
    "mallafinal_c2=np.zeros((dimgrid,dimgrid))\n",
    "mallasuma_c12=np.zeros((dimgrid,dimgrid))"
   ]
  },
  {
   "cell_type": "markdown",
   "metadata": {},
   "source": [
    "## Tamaños de caja en la malla, pasos radiales y angulares en la malla polar de salida. Constantes"
   ]
  },
  {
   "cell_type": "markdown",
   "metadata": {},
   "source": [
    "- Se introducen los parametros del cálculo\n",
    "- irmax y iamax fijan el numero de pasos de las variables radial y angular en el recorrido de la malla polar\n"
   ]
  },
  {
   "cell_type": "code",
   "execution_count": 74,
   "metadata": {},
   "outputs": [],
   "source": [
    "irmax=100\n",
    "iamax=100\n",
    "rmin=0.01\n",
    "rmax=3\n",
    "#----------------------------------------------------------------------\n",
    "nuyan=math.pi\n",
    "hbar=0.005;m=0.5;D=1;a=1.25;\n",
    "wmin=np.sqrt(2*(a**2)*D/m) \n",
    "Per=(2*nuyan)/wmin\n",
    "tf=1.55*0.25*Per\n",
    "kB = 1.\n",
    "Temp = 0.04\n",
    "beta = 1./(kB*Temp)\n",
    "gamma_0 = 0.\n",
    "omega_D = 1.2*wmin\n",
    "omega = 1.\n",
    "#----------------------------------------------------------------------\n",
    "dr=(rmax-rmin)/(2*irmax)\n",
    "da=nuyan/iamax\n",
    "dp=(pmax-pmin)/dimgrid\n",
    "dq=(qmax-qmin)/dimgrid\n",
    "#----------------------------------------------------------------------\n",
    "qi=0\n",
    "pi=0.1"
   ]
  },
  {
   "cell_type": "markdown",
   "metadata": {},
   "source": [
    "## Sistema de ecuaciones diferenciales y condiciones iniciales y de frontera"
   ]
  },
  {
   "cell_type": "markdown",
   "metadata": {},
   "source": [
    "\\begin{align}\n",
    "{\\dot  p_{\\pm}} =& - \\frac{\\partial V(q_{\\pm})}{\\partial q_{\\pm}} - \\frac{m}{2} \\frac{{\\rm d}}{{\\rm d}s}\\int_0^{s} {\\rm d}u\\ \\gamma(s - u) \\left(q_+(u) + q_-(u)\\right)\n",
    "\\pm\n",
    "\\frac{m}{2} \\frac{{\\rm d}}{{\\rm d}s} \\int_{s}^{t} {\\rm d}u\\ \\gamma(u - s) \\left(q_+(u) - q_-(u)\\right).\n",
    "%+ {\\rm i}\\int_0^{t} {\\rm d}u \\ \\alpha_{\\rm R}(s-u) \\left(q_+(u) - q_-(u)\\right),\n",
    "\\\\\\nonumber\n",
    "{\\dot  q_{\\pm}} =&   \\frac{p_{\\pm}}{m}.\n",
    "\\end{align}"
   ]
  },
  {
   "cell_type": "markdown",
   "metadata": {},
   "source": [
    "## Funciones auxiliares"
   ]
  },
  {
   "cell_type": "markdown",
   "metadata": {},
   "source": [
    "\\begin{align}\n",
    "J_{+}(s)=&\\int_{0}^{s}{\\rm d}u\\ \\gamma(s-u)\\ q_{+}(u) \\\\\n",
    "J_{-}(s)=&\\int_{0}^{s}{\\rm d}u\\ \\gamma(s-u)\\ q_{-}(u) \\\\\n",
    "F_{+}(s)=&\\int_{s}^{t}{\\rm d}u\\ \\gamma(s-u)\\ q_{+}(u) \\\\\n",
    "F_{-}(s)=&\\int_{s}^{t}{\\rm d}u\\ \\gamma(s-u)\\ q_{+}(u) \\\\\n",
    "\\end{align}"
   ]
  },
  {
   "cell_type": "markdown",
   "metadata": {},
   "source": [
    "## Sistema de ecuaciones auxiliares"
   ]
  },
  {
   "cell_type": "markdown",
   "metadata": {},
   "source": [
    "\\begin{align}\n",
    "\\frac{{\\rm d}}{{\\rm d}s}J_{+}(s)=\\ &\\omega_{\\text{D}}\\left[\\gamma\\ q_{+}(s) -J_{+}(s) \\right] \\\\\n",
    "\\frac{{\\rm d}}{{\\rm d}s}J_{+}(s)=\\ &\\omega_{\\text{D}}\\left[\\gamma\\ q_{-}(s) -J_{-}(s) \\right] \\\\\n",
    "\\frac{{\\rm d}}{{\\rm d}s}F_{+}(s)=\\ &-\\omega_{\\text{D}}\\left[\\gamma\\ q_{+}(s) -F_{+}(s) \\right] \\\\\n",
    "\\frac{{\\rm d}}{{\\rm d}s}F_{+}(s)=\\ &-\\omega_{\\text{D}}\\left[\\gamma\\ q_{+}(s) -F_{+}(s) \\right] \\\\\n",
    "\\end{align}"
   ]
  },
  {
   "cell_type": "markdown",
   "metadata": {},
   "source": [
    "## Sistema de Ecuaciones para las entradas de la matriz de estabilidad en el caso unitario"
   ]
  },
  {
   "cell_type": "markdown",
   "metadata": {},
   "source": [
    "\\begin{align}\n",
    "\\dot{\\mathsf{M}}_{3\\pm}(s)=&\\ m^{-1}\\mathsf{M}_{4\\pm}(s),  \\qquad \\mathsf{M_{3\\pm}}(0)=1\\\\\n",
    "\\dot{\\mathsf{M}}_{4\\pm}(s)=&\\frac{\\partial^{2}V}{\\partial q^{2}}\\mathsf{M}_{3\\pm}(s),  \\qquad \\mathsf{M_{4\\pm}}(0)=0\\\\\n",
    "\\dot{\\mathsf{M}}_{5\\pm}(s)=&\\ m^{-1}\\mathsf{M}_{6\\pm}(s),  \\qquad \\mathsf{M_{5\\pm}}(0)=0\\\\\n",
    "\\dot{\\mathsf{M}}_{6\\pm}(s)=&\\frac{\\partial^{2}V}{\\partial q^{2}}\\mathsf{M}_{5\\pm}(s),  \\qquad \\mathsf{M_{6\\pm}}(0)=1\n",
    "\\end{align}"
   ]
  },
  {
   "cell_type": "markdown",
   "metadata": {},
   "source": [
    "## Integrador. Se recorre la malla polar para evolucionar pares de trayectorias. Se seleccionan y separan los datos en las capas "
   ]
  },
  {
   "cell_type": "code",
   "execution_count": 75,
   "metadata": {},
   "outputs": [
    {
     "name": "stdout",
     "output_type": "stream",
     "text": [
      "1\n",
      "2\n",
      "3\n",
      "4\n",
      "5\n",
      "6\n",
      "7\n",
      "8\n",
      "9\n",
      "10\n",
      "11\n",
      "12\n",
      "13\n",
      "14\n",
      "15\n",
      "16\n",
      "17\n",
      "18\n",
      "19\n",
      "20\n",
      "21\n",
      "22\n",
      "23\n",
      "24\n",
      "25\n",
      "26\n",
      "27\n",
      "28\n",
      "29\n",
      "30\n",
      "31\n",
      "32\n",
      "33\n",
      "34\n",
      "35\n",
      "36\n",
      "37\n",
      "38\n",
      "39\n",
      "40\n",
      "41\n",
      "42\n",
      "43\n",
      "44\n",
      "45\n",
      "46\n",
      "47\n",
      "48\n",
      "49\n",
      "50\n",
      "51\n",
      "52\n",
      "53\n",
      "54\n",
      "55\n",
      "56\n",
      "57\n",
      "58\n",
      "59\n",
      "60\n",
      "61\n",
      "62\n",
      "63\n",
      "64\n",
      "65\n",
      "66\n",
      "67\n",
      "68\n",
      "69\n",
      "70\n",
      "71\n",
      "72\n",
      "73\n",
      "74\n",
      "75\n",
      "76\n",
      "77\n",
      "78\n",
      "79\n",
      "80\n",
      "81\n",
      "82\n",
      "83\n",
      "84\n",
      "85\n",
      "86\n",
      "87\n",
      "88\n",
      "89\n",
      "90\n",
      "91\n",
      "92\n",
      "93\n",
      "94\n",
      "95\n",
      "96\n",
      "97\n",
      "98\n",
      "99\n",
      "el programa finalizó\n"
     ]
    }
   ],
   "source": [
    "numpoints = 1000\n",
    "#numpoints is the number of partitions of the time interval [0,tf]\n",
    "bb=numpoints-1\n",
    "for ir in range (1,irmax):\n",
    "    print(ir)\n",
    "    t = np.linspace(0, tf, numpoints)\n",
    "    tp=t[1]\n",
    "    for ia in range (1,iamax):\n",
    "        radious=ir*dr\n",
    "        theta=ia*da\n",
    "        pp0=pi+radious*np.sin(theta)\n",
    "        qp0=qi+radious*np.cos(theta)\n",
    "        pm0=pi-radious*np.sin(theta)\n",
    "        qm0=qi-radious*np.cos(theta)\n",
    "        del y\n",
    "        y = np.zeros((16, t.size))\n",
    "#integrador        \n",
    "        res = solve_bvp(System, bc, t, y)\n",
    "#evaluacion de la regla del punto medio en los puntos finales de los pares de trayectorias       \n",
    "        pf=0.5*(res.y[0][-1]+res.y[1][-1])  \n",
    "        qf=0.5*(res.y[2][-1]+res.y[3][-1]) \n",
    "#the stability matrices are defined at final time tf       \n",
    "        Mp=[[res.y[11][-1],res.y[9][-1]],[res.y[10][-1],res.y[8][-1]]]\n",
    "        Mm=[[res.y[15][-1],res.y[13][-1]],[res.y[14][-1],res.y[12][-1]]]\n",
    "#Mp-Mm is calculated \n",
    "        Mpm=[[Mp[i][j]-Mm[i][j] for j in range(len(Mp))] for i in range(len(Mm))]  \n",
    "#The determinant of Mpm is calculated  \n",
    "        deter=np.linalg.det(Mpm) \n",
    "#the eigenvalues of Mpm are calculated  \n",
    "        e=LA.eigvals(Mpm)\n",
    "#calculation of the maslov index    \n",
    "        posi=0.0\n",
    "        nega=0.0\n",
    "        for i in range(0,2):\n",
    "            if e[i]>0:\n",
    "                posi += 1\n",
    "            elif e[i]<0:\n",
    "                nega += 1\n",
    "        nu=posi-nega           \n",
    "#Firts Conditional: box selection    \n",
    "        if abs(pf)<=pmax and abs(qf)<=qmax:\n",
    "            k1=math.floor((pf+dimph)/dp)\n",
    "            k2=math.floor((qf+dimph)/dq)\n",
    "            if deter!=0:\n",
    "                if deter>0:\n",
    "                    malla_prop_c1[k1,k2]=malla_prop_c1[k1,k2]+prop(phase)\n",
    "                    malla_cont_c1[k1,k2]=malla_cont_c1[k1,k2]+1.0\n",
    "                elif deter<0:\n",
    "                    malla_prop_c2[k1,k2]=malla_prop_c2[k1,k2]+prop(phase)\n",
    "                    malla_cont_c2[k1,k2]=malla_cont_c2[k1,k2]+1.0\n",
    "print(\"el programa finalizó\")"
   ]
  },
  {
   "cell_type": "markdown",
   "metadata": {},
   "source": [
    "## Se seleccionan las capas y se escriben los datos"
   ]
  },
  {
   "cell_type": "code",
   "execution_count": 76,
   "metadata": {},
   "outputs": [
    {
     "name": "stdout",
     "output_type": "stream",
     "text": [
      "la escritura ha finalizado\n"
     ]
    }
   ],
   "source": [
    "capa1=open('U_py_Diss_capa1.dat', 'w')\n",
    "capa2=open('U_py_Diss_capa2.dat', 'w')\n",
    "capa3=open('U_py_Diss_capa3.dat', 'w')\n",
    "\n",
    "for k1 in range (1,dimgrid):\n",
    "    for k2 in range (1,dimgrid):\n",
    "        if malla_cont_c1[k1,k2] ==0:\n",
    "            vV=0.0\n",
    "            capa1.write('{:f} {:f} {:f}\\n'.format(k1*dq,k2*dp,vV))\n",
    "        elif malla_cont_c1[k1,k2] !=0:\n",
    "            vV=malla_prop_c1[k1,k2]/malla_cont_c1[k1,k2]\n",
    "            capa1.write('{:f} {:f} {:f}\\n'.format(k1*dq,k2*dp,vV))\n",
    "        if malla_cont_c2[k1,k2] ==0:\n",
    "            vV=0.0\n",
    "            capa2.write('{:f} {:f} {:f}\\n'.format(k1*dq,k2*dp,vV))\n",
    "        elif malla_cont_c2[k1,k2] !=0:\n",
    "            vV=malla_prop_c2[k1,k2]/malla_cont_c2[k1,k2]\n",
    "            capa2.write('{:f} {:f} {:f}\\n'.format(k1*dq,k2*dp,vV))    \n",
    "        if malla_cont_c1[k1,k2] ==0 and malla_cont_c2[k1,k2] ==0:\n",
    "            vV=0.0\n",
    "            capa3.write('{:f} {:f} {:f}\\n'.format(k1*dq,k2*dp,vV))\n",
    "        elif malla_cont_c1[k1,k2] !=0 and malla_cont_c2[k1,k2] ==0:\n",
    "            vV=malla_prop_c1[k1,k2]/malla_cont_c1[k1,k2]\n",
    "            capa3.write('{:f} {:f} {:f}\\n'.format(k1*dq,k2*dp,vV)) \n",
    "        elif malla_cont_c1[k1,k2] ==0 and malla_cont_c2[k1,k2] !=0:\n",
    "            vV=malla_prop_c2[k1,k2]/malla_cont_c2[k1,k2]\n",
    "            capa3.write('{:f} {:f} {:f}\\n'.format(k1*dq,k2*dp,vV))     \n",
    "        elif malla_cont_c1[k1,k2] !=0 and malla_cont_c2[k1,k2] !=0:\n",
    "            vV=malla_prop_c1[k1,k2]/malla_cont_c1[k1,k2]+malla_prop_c2[k1,k2]/malla_cont_c2[k1,k2]\n",
    "            capa3.write('{:f} {:f} {:f}\\n'.format(k1*dq,k2*dp,vV))   \n",
    "    capa1.write('\\n')\n",
    "    capa2.write('\\n')\n",
    "    capa3.write('\\n')\n",
    "    \n",
    "capa1.close()            \n",
    "capa2.close()           \n",
    "capa3.close()           \n",
    "print(\"la escritura ha finalizado\")"
   ]
  },
  {
   "cell_type": "markdown",
   "metadata": {},
   "source": [
    "## Algoritmo para crear las gráficas de contorno"
   ]
  },
  {
   "cell_type": "code",
   "execution_count": 77,
   "metadata": {},
   "outputs": [],
   "source": [
    "rc('font',**{'family':'sans-serif','sans-serif':['Helvetica']})\n",
    "## for Palatino and other serif fonts use:\n",
    "#rc('font',**{'family':'serif','serif':['Palatino']})\n",
    "rc('text', usetex=True)\n",
    "\n",
    "N = 500 #number of points for plotting/interpolation    "
   ]
  },
  {
   "cell_type": "code",
   "execution_count": 78,
   "metadata": {},
   "outputs": [],
   "source": [
    "def make_colormap(colors):\n",
    "    from matplotlib.colors import LinearSegmentedColormap, ColorConverter\n",
    "    from numpy import sort\n",
    "\n",
    "    z  = np.array(sorted(colors.keys()))\n",
    "    n  = len(z)\n",
    "    z1 = min(z)\n",
    "    zn = max(z)\n",
    "    x0 = (z - z1) / (zn - z1)\n",
    "\n",
    "    CC = ColorConverter()\n",
    "    R = []\n",
    "    G = []\n",
    "    B = []\n",
    "    for i in range(n):\n",
    "        Ci = colors[z[i]]      \n",
    "        if type(Ci) == str:\n",
    "            RGB = CC.to_rgb(Ci)\n",
    "        else:\n",
    "            RGB = Ci\n",
    "        R.append(RGB[0])\n",
    "        G.append(RGB[1])\n",
    "        B.append(RGB[2])\n",
    "\n",
    "    cmap_dict = {}\n",
    "    cmap_dict['red']   = [(x0[i],R[i],R[i]) for i in range(len(R))]\n",
    "    cmap_dict['green'] = [(x0[i],G[i],G[i]) for i in range(len(G))]\n",
    "    cmap_dict['blue']  = [(x0[i],B[i],B[i]) for i in range(len(B))]\n",
    "    mymap = LinearSegmentedColormap('mymap',cmap_dict)\n",
    "    return mymap"
   ]
  },
  {
   "cell_type": "code",
   "execution_count": 79,
   "metadata": {},
   "outputs": [],
   "source": [
    "zu11 = 1.98\n",
    "upperlimit = zu11\n",
    "lowerlimit = -zu11\n",
    "GFTyMA = make_colormap({\n",
    "    lowerlimit: (0, 0, 0.564705882352941),\n",
    "    0.33*lowerlimit: (0.309803921568627,0.505882352941176,0.741176470588235),\n",
    "    0.16*lowerlimit: (0.294117647058824,0.674509803921569,0.776470588235294), \n",
    "    0.: (1, 1, 1), \n",
    "    0.16*upperlimit: (1, 0.882352941176471, 0), \n",
    "    0.33*upperlimit: (0.823529411764706, 0.27843137254902, 0.141176470588235), \n",
    "    upperlimit: (0.505882352941176, 0, 0)\n",
    "                      })"
   ]
  },
  {
   "cell_type": "code",
   "execution_count": 80,
   "metadata": {},
   "outputs": [
    {
     "data": {
      "text/plain": [
       "<matplotlib.image.AxesImage at 0x1513859be0>"
      ]
     },
     "execution_count": 80,
     "metadata": {},
     "output_type": "execute_result"
    },
    {
     "data": {
      "image/png": "[encoded data removed]",
      "text/plain": [
       "<matplotlib.figure.Figure at 0x1513137358>"
      ]
     },
     "metadata": {},
     "output_type": "display_data"
    }
   ],
   "source": [
    "#usar la ruta apropiada para los .dat\n",
    "\n",
    "\n",
    "fig, axarr = plt.subplots(2,2, sharex='col', sharey='row',figsize=(14,14));\n",
    "\n",
    "x11, y11, z11 = np.genfromtxt(r'/Users/florez/tesis/python-codes/U_py_Diss_capa1.dat', unpack=True)\n",
    "xl11 = x11.min();  xu11 = x11.max();  yl11 = y11.min();  yu11 = y11.max(); zl11 = z11.min(); zu11 = z11.max();\n",
    "xi = np.linspace(xl11, xu11, N);\n",
    "yi = np.linspace(yl11, yu11, N);\n",
    "norm=plt.Normalize(-zu11,zu11)\n",
    "zi = scipy.interpolate.griddata((x11, y11), z11, (xi[None,:], yi[:,None]), method='cubic',)\n",
    "axarr[0,0].imshow(zi, extent=[xl11, xu11, yl11, yu11], origin='lower', \n",
    "                  cmap=GFTyMA, alpha=0.9, norm = norm)\n",
    "#axarr[0,0].contour(xi, yi, zi, 8, alpha = 0.9, colors='black', linewidth=0.125)\n",
    "\n",
    "x11, y11, z11 = np.genfromtxt(r'/Users/florez/tesis/python-codes/U_py_Diss_capa2.dat', unpack=True)\n",
    "xl11 = x11.min();  xu11 = x11.max();  yl11 = y11.min();  yu11 = y11.max(); zl11 = z11.min(); zu11 = z11.max();\n",
    "xi = np.linspace(xl11, xu11, N)\n",
    "yi = np.linspace(yl11, yu11, N)\n",
    "zi = scipy.interpolate.griddata((x11, y11), z11, (xi[None,:], yi[:,None]), method='cubic')\n",
    "axarr[1,0].imshow(zi, extent=[xl11, xu11, yl11, yu11], origin='lower', \n",
    "                  cmap=GFTyMA, alpha=0.9, norm = norm)\n",
    "#axarr[1,0].contour(xi, yi, zi, 8, alpha = 0.9, colors='black', linewidth=0.125)\n",
    "\n",
    "x11, y11, z11 = np.genfromtxt(r'/Users/florez/tesis/python-codes/U_py_Diss_capa3.dat', unpack=True)\n",
    "xl11 = x11.min();  xu11 = x11.max();  yl11 = y11.min();  yu11 = y11.max(); zl11 = z11.min(); zu11 = z11.max();\n",
    "xi = np.linspace(xl11, xu11, N)\n",
    "yi = np.linspace(yl11, yu11, N)\n",
    "zi = scipy.interpolate.griddata((x11, y11), z11, (xi[None,:], yi[:,None]), method='cubic')\n",
    "axarr[0,1].imshow(zi, extent=[xl11, xu11, yl11, yu11], origin='lower', \n",
    "                  cmap=GFTyMA,  alpha=0.9, norm = norm)\n",
    "#axarr[0,1].contour(xi, yi, zi, 8, alpha = 0.9, colors='black', linewidth=0.125)\n",
    "x11, y11, z11 = np.genfromtxt(r'/Users/florez/tesis/python-codes/U_py_Diss_capa3.dat', unpack=True)\n",
    "xl11 = x11.min();  xu11 = x11.max();  yl11 = y11.min();  yu11 = y11.max(); zl11 = z11.min(); zu11 = z11.max();\n",
    "xi = np.linspace(xl11, xu11, N)\n",
    "yi = np.linspace(yl11, yu11, N)\n",
    "zi = scipy.interpolate.griddata((x11, y11), z11, (xi[None,:], yi[:,None]), method='cubic')\n",
    "axarr[1,1].imshow(zi, extent=[xl11, xu11, yl11, yu11], origin='lower', \n",
    "                  cmap=GFTyMA,  alpha=0.9, norm = norm)\n",
    "                  \n",
    "#axarr[1,1].contour(xi, yi, zi, 8, alpha = 0.9, colors='black', linewidth=0.125)"
   ]
  },
  {
   "cell_type": "code",
   "execution_count": null,
   "metadata": {},
   "outputs": [],
   "source": []
  }
 ],
 "metadata": {
  "kernelspec": {
   "display_name": "Python 3",
   "language": "python",
   "name": "python3"
  },
  "language_info": {
   "codemirror_mode": {
    "name": "ipython",
    "version": 3
   },
   "file_extension": ".py",
   "mimetype": "text/x-python",
   "name": "python",
   "nbconvert_exporter": "python",
   "pygments_lexer": "ipython3",
   "version": "3.6.4"
  }
 },
 "nbformat": 4,
 "nbformat_minor": 2
}
